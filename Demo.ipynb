{
 "cells": [
  {
   "cell_type": "markdown",
   "metadata": {},
   "source": [
    "# Proof of Concept: Automatic root Cause Analysis for LTE Networks based on unsupervised Techniques"
   ]
  },
  {
   "cell_type": "markdown",
   "metadata": {},
   "source": [
    "This Jupyter Notebook is a demo related to the paper \"Automatic root cause analysis for LTE networks based on unsupervised techniques.\" IEEE Transactions on Vehicular Technology (2016), 2369-2386, written by Gómez-Andrades, Ana, et al. "
   ]
  },
  {
   "cell_type": "markdown",
   "metadata": {},
   "source": [
    "The increase in the size and complexity of current cellular networks is complicating their operation and maintenance tasks. While the end-to-end user experience in terms of throughput and latency has been significantly improved, cellular  networks have also become more prone to failures. In this context, mobile operators start to concentrate their efforts on creating self-healing networks, i.e., those networks capable of troubleshooting in an automatic way, making the network  more reliable and reducing costs. In the paper \"Automatic root cause analysis for LTE networks based on unsupervised techniques.\", an automatic diagnosis system based on unsupervised techniques for Long-Term Evolution (LTE) networks is proposed. In particular, this system is built through an iterative process, using self-organizing maps (SOMs) and Ward’s hierarchical clustering method, to guarantee the quality of the solution. Furthermore, to obtain a number of relevant clusters and label them properly from a technical point of view, an approach based on the analysis of the statistical behavior of each cluster is proposed."
   ]
  },
  {
   "cell_type": "markdown",
   "metadata": {},
   "source": [
    "Diagnosis  is  one  of  the  most  critical  functions  in  a  self-healing  network.  It  is,  therefore,  essential  to  ensure  that  the automatic fault identification  is  accurate and  reliable, so  that experts do not have to check every diagnosis provided by the system.  Consequently,  the  automatic  diagnosis  system  must emulate the manual process followed by an expert to determine the existing faults. Through this manual procedure, experts analyze the symptoms or measurements that may reveal the cause of the problem. These  symptoms  could  be  alarms,  key  performance  indicators (KPIs), configuration parameters, etc. Thus, depending on which symptoms are degraded and their level of deterioration, experts can differentiate the fault of a cell. However, this raises difficulties that experts must face, i.e., difficulties that are also present when the diagnosis system is designed. First, the system must be able to operate with a wide range of symptoms. Furthermore, each symptom has different features, e.g., it can be either discrete or continuous, its range of variation can be limited or not, etc. Finally, the automatic diagnosis system, similar to experts, must “know” the effects that each fault causes on the symptoms to perform identification from a plurality of faults. In addition, automating the diagnosis process implies that the diagnosis system has to learn how the faults behave. A possible approach could be to extract the information from stored cases that have been solved satisfactorily and whose fault is known (i.e., labeled cases). This data set will allow obtaining an automatic system through supervised learning. Nevertheless, since experts do not tend to collect the values of the KPI along with a standard label associated to the cases that they resolve, the available historical records are characterized by being scarce. In particular, they do not have a high variety of faults, and for each specific fault, there is not a high number of labeled cases. As a result, the historical data obtained from a real network is not sufficiently rich to build a diagnosis system with supervised techniques. Although this valuable information could be obtained from expert knowledge, this would give rise to a system that would highly depend on the notions provided by the experts and how this knowledge is translated into the system.\n",
    "Furthermore, each network may have different faults, and not all of them may be known by the experts. Consequently, the unsupervised technique proposed in the paper is the best solution for the design of the automatic diagnosis system, since it avoids the use of labeled cases for its construction.\n",
    "Unsupervised methods allow building systems from a dataset taken directly from the real network, without including any information about the fault cause in question. Moreover, the  dataset used to design the system contains symptoms from both healthy and faulty cells because these two states cannot be distinguished, i.e., the data set is unlabeled. Therefore, one additional aspect to consider, arising from the use of unsupervised techniques, is that the obtained system must be able to identify not only  the cause of the problems but whether a cell has a problem or not as well. As a result, the automatic system simultaneously performs the diagnosis and the detection functions of the self-healing procedure. Although the data set is previously filtered by the detection phase, there will be some samples of healthy cells (due to nonidealities of the detection phase) that arrive to the diagnosis phase. This leads to a diagnosis system that is trained with both healthy and problematic cases. Thus, those healthy cases should also be identified."
   ]
  },
  {
   "cell_type": "markdown",
   "metadata": {},
   "source": [
    "The original paper evaluates on synthetic and real LTE data. Since we have only access to the simulated dataset, we demonstrate some of the paper's concepts only on the synthetic data. <br>\n",
    "For the data source and further references see: http://webpersonal.uma.es/de/rbarco/home.html"
   ]
  },
  {
   "cell_type": "code",
   "execution_count": null,
   "metadata": {},
   "outputs": [],
   "source": [
    "# Import all required Python libraries\n",
    "\n",
    "import pandas as pd\n",
    "import numpy as np\n",
    "import sompy\n",
    "import scipy\n",
    "from sklearn import preprocessing\n",
    "from sklearn.cluster import AgglomerativeClustering\n",
    "import plotly\n",
    "import matplotlib.pyplot as plt\n",
    "#import plotly.plotly as py\n",
    "from chart_studio.plotly import plotly as py\n",
    "import plotly.graph_objs as go\n",
    "import plotly.figure_factory as ff\n",
    "from tqdm import tqdm"
   ]
  },
  {
   "cell_type": "markdown",
   "metadata": {},
   "source": [
    "# Semi-automatic Design Step"
   ]
  },
  {
   "cell_type": "markdown",
   "metadata": {},
   "source": [
    "Before the proposed diagnosis system can be used, it must be designed through an iterative process with the goal of obtaining an accurate system. The proposed design method\n",
    "consists of different unsupervised techniques with the Self-organizing Map (SOM) as the key algorithm, along with the validation of the experts who determine if the obtained diagnosis system makes sense. Thus, this semiautomatic design is carried out through three different phases:\n",
    "<ol>\n",
    "    <li>unsupervised SOM training,\n",
    "    <li>unsupervised clustering,\n",
    "    <li>labeling by experts.\n",
    "<ol>"
   ]
  },
  {
   "cell_type": "markdown",
   "metadata": {},
   "source": [
    "The synthetic dataset consists of two different collections: the training set, which will be used to design the proposed diagnosis system, and thus, it  is  used  without  labels;  and  the  validation  set,  which  will be used to evaluate the system. In particular, the data set has been generated by a dynamic LTE system-level simulator implemented in MATLAB, whose 57 macrocells are evenly distributed across the entire scenario, forming a hexagonal grid.\n",
    "\n",
    "To carry out the root cause analysis of this scenario, the chosen indicators are statistics at the cell level related both to radio environment quality and the efficiency of the offered service. In particular, the used KPIs are the following:\n",
    "<ul>\n",
    "    <li>Retainability, which is the ratio of connections that have finished successfully to the total numbern of finished connections;\n",
    "    <li>HOSR, which is calculated as the ratio of the number of successful handovers to the total;\n",
    "    <li>the 95th percentile of the reference signal received power (RSRP) measured  by  all  the  users  connected  to  the cell. The RSRP is defined as the average power received from the serving cell over the resource elements that carry the cell-specific reference signals (RS) within the considered measurement frequency bandwidth;\n",
    "    <li>the fifth percentile of the reference signal received quality (RSRQ), which is the ratio of the RSRP multiplied by the total number of resource blocks to the total received power within the measurement bandwidth;\n",
    "    <li>the  95th  percentile  of the signal-to-interference-plus-noise ratio (SINR). In particular, the SINR of the users is the ratio of the desired power received to the total power of noise and interference;\n",
    "    <li>the average throughput of all users in a cell (AvThroughput), where the user throughput is calculated on the basis of their SINR;\n",
    "    <li>the  95th  percentile  of  the  distance  between  the  base station and each user (Distance);\n",
    "\n",
    "Therefore, the input vector of the system consists of the previous KPIs; formally, it can be expressed as <br>\n",
    "S=[Retainability, HOSR, RSRP, RSRQ, SINR, AvThroughput, Distance]\n"
   ]
  },
  {
   "cell_type": "code",
   "execution_count": 2,
   "metadata": {},
   "outputs": [],
   "source": [
    "# Read in all labeled training data and name columns\n",
    "trainingdata = pd.read_csv(\"db_fm_training.txt\", sep=r\"\\s+\",skiprows=[0],header=None)"
   ]
  },
  {
   "cell_type": "code",
   "execution_count": 4,
   "metadata": {},
   "outputs": [],
   "source": [
    "trainingdata.columns = [\"Retainability\", \"HOSR\", \"RSRP\", \"RSRQ\", \"SINR\", \"Throughput\", \"Distance\", \"FaultCause\"]"
   ]
  },
  {
   "cell_type": "code",
   "execution_count": 5,
   "metadata": {},
   "outputs": [],
   "source": [
    "# Remove the label 'Fault Cause' from training data and use it later for evaluation\n",
    "y = trainingdata['FaultCause'].copy().astype(int)"
   ]
  },
  {
   "cell_type": "code",
   "execution_count": 6,
   "metadata": {},
   "outputs": [],
   "source": [
    "trainingdata = trainingdata.drop('FaultCause',axis=1)"
   ]
  },
  {
   "cell_type": "code",
   "execution_count": 7,
   "metadata": {},
   "outputs": [
    {
     "data": {
      "text/html": [
       "<div>\n",
       "<style scoped>\n",
       "    .dataframe tbody tr th:only-of-type {\n",
       "        vertical-align: middle;\n",
       "    }\n",
       "\n",
       "    .dataframe tbody tr th {\n",
       "        vertical-align: top;\n",
       "    }\n",
       "\n",
       "    .dataframe thead th {\n",
       "        text-align: right;\n",
       "    }\n",
       "</style>\n",
       "<table border=\"1\" class=\"dataframe\">\n",
       "  <thead>\n",
       "    <tr style=\"text-align: right;\">\n",
       "      <th></th>\n",
       "      <th>Retainability</th>\n",
       "      <th>HOSR</th>\n",
       "      <th>RSRP</th>\n",
       "      <th>RSRQ</th>\n",
       "      <th>SINR</th>\n",
       "      <th>Throughput</th>\n",
       "      <th>Distance</th>\n",
       "    </tr>\n",
       "  </thead>\n",
       "  <tbody>\n",
       "    <tr>\n",
       "      <th>0</th>\n",
       "      <td>0.853</td>\n",
       "      <td>0.609</td>\n",
       "      <td>-66.728</td>\n",
       "      <td>-20.042</td>\n",
       "      <td>10.836</td>\n",
       "      <td>148.692</td>\n",
       "      <td>0.713</td>\n",
       "    </tr>\n",
       "    <tr>\n",
       "      <th>1</th>\n",
       "      <td>0.909</td>\n",
       "      <td>0.800</td>\n",
       "      <td>-61.816</td>\n",
       "      <td>-19.071</td>\n",
       "      <td>15.236</td>\n",
       "      <td>205.652</td>\n",
       "      <td>0.601</td>\n",
       "    </tr>\n",
       "    <tr>\n",
       "      <th>2</th>\n",
       "      <td>0.963</td>\n",
       "      <td>0.818</td>\n",
       "      <td>-61.778</td>\n",
       "      <td>-18.862</td>\n",
       "      <td>16.395</td>\n",
       "      <td>251.339</td>\n",
       "      <td>0.587</td>\n",
       "    </tr>\n",
       "    <tr>\n",
       "      <th>3</th>\n",
       "      <td>0.940</td>\n",
       "      <td>0.889</td>\n",
       "      <td>-63.843</td>\n",
       "      <td>-19.436</td>\n",
       "      <td>14.816</td>\n",
       "      <td>232.213</td>\n",
       "      <td>0.586</td>\n",
       "    </tr>\n",
       "    <tr>\n",
       "      <th>4</th>\n",
       "      <td>0.952</td>\n",
       "      <td>0.900</td>\n",
       "      <td>-61.796</td>\n",
       "      <td>-19.403</td>\n",
       "      <td>14.402</td>\n",
       "      <td>191.574</td>\n",
       "      <td>0.629</td>\n",
       "    </tr>\n",
       "  </tbody>\n",
       "</table>\n",
       "</div>"
      ],
      "text/plain": [
       "   Retainability   HOSR    RSRP    RSRQ    SINR  Throughput  Distance\n",
       "0          0.853  0.609 -66.728 -20.042  10.836     148.692     0.713\n",
       "1          0.909  0.800 -61.816 -19.071  15.236     205.652     0.601\n",
       "2          0.963  0.818 -61.778 -18.862  16.395     251.339     0.587\n",
       "3          0.940  0.889 -63.843 -19.436  14.816     232.213     0.586\n",
       "4          0.952  0.900 -61.796 -19.403  14.402     191.574     0.629"
      ]
     },
     "execution_count": 7,
     "metadata": {},
     "output_type": "execute_result"
    }
   ],
   "source": [
    "trainingdata.head(n=5)"
   ]
  },
  {
   "cell_type": "code",
   "execution_count": 8,
   "metadata": {},
   "outputs": [],
   "source": [
    "KPIs = trainingdata.copy()"
   ]
  },
  {
   "cell_type": "markdown",
   "metadata": {},
   "source": [
    "## 1. Normalize Data"
   ]
  },
  {
   "cell_type": "markdown",
   "metadata": {},
   "source": [
    "The input of the diagnosis system must be preprocessed to suit the technical requirements of the system. In particular, for the proposed system, the input data must be quantitative, i.e., they can be expressed in terms of numbers (e.g.,  power  and throughput). In particular, performance indicators of mobile networks are characterized by being numerical variables. As a consequence, this system is appropriate for automating the troubleshooting process in a mobile network by working directly\n",
    "with KPIs, avoiding both the discretization of the variables and the definition of the thresholds by experts.\n",
    "However, given that the proposed system is based on the Euclidean distance, the raw data taken from the network must be normalized. This ensures that their dynamic ranges are similar, and thus, there are no high values that dominate the training"
   ]
  },
  {
   "cell_type": "code",
   "execution_count": 9,
   "metadata": {},
   "outputs": [],
   "source": [
    "normalized = trainingdata.copy()"
   ]
  },
  {
   "cell_type": "code",
   "execution_count": 10,
   "metadata": {},
   "outputs": [],
   "source": [
    "rangescaler = preprocessing.MinMaxScaler()\n",
    "rangescaler.fit(normalized)\n",
    "scaled1 = rangescaler.transform(normalized)\n",
    "scaled1df = pd.DataFrame(scaled1)\n",
    "scaled1df.columns = [\"Retainability\", \"HOSR\", \"RSRP\", \"RSRQ\", \"SINR\", \"Throughput\", \"Distance\"]"
   ]
  },
  {
   "cell_type": "code",
   "execution_count": 11,
   "metadata": {},
   "outputs": [
    {
     "data": {
      "text/html": [
       "<div>\n",
       "<style scoped>\n",
       "    .dataframe tbody tr th:only-of-type {\n",
       "        vertical-align: middle;\n",
       "    }\n",
       "\n",
       "    .dataframe tbody tr th {\n",
       "        vertical-align: top;\n",
       "    }\n",
       "\n",
       "    .dataframe thead th {\n",
       "        text-align: right;\n",
       "    }\n",
       "</style>\n",
       "<table border=\"1\" class=\"dataframe\">\n",
       "  <thead>\n",
       "    <tr style=\"text-align: right;\">\n",
       "      <th></th>\n",
       "      <th>Retainability</th>\n",
       "      <th>HOSR</th>\n",
       "      <th>RSRP</th>\n",
       "      <th>RSRQ</th>\n",
       "      <th>SINR</th>\n",
       "      <th>Throughput</th>\n",
       "      <th>Distance</th>\n",
       "    </tr>\n",
       "  </thead>\n",
       "  <tbody>\n",
       "    <tr>\n",
       "      <th>0</th>\n",
       "      <td>0.020000</td>\n",
       "      <td>0.370370</td>\n",
       "      <td>0.729582</td>\n",
       "      <td>0.128493</td>\n",
       "      <td>0.476661</td>\n",
       "      <td>0.479031</td>\n",
       "      <td>0.177320</td>\n",
       "    </tr>\n",
       "    <tr>\n",
       "      <th>1</th>\n",
       "      <td>0.393333</td>\n",
       "      <td>0.677939</td>\n",
       "      <td>0.997924</td>\n",
       "      <td>0.440411</td>\n",
       "      <td>0.844738</td>\n",
       "      <td>0.768123</td>\n",
       "      <td>0.061856</td>\n",
       "    </tr>\n",
       "    <tr>\n",
       "      <th>2</th>\n",
       "      <td>0.753333</td>\n",
       "      <td>0.706924</td>\n",
       "      <td>1.000000</td>\n",
       "      <td>0.507549</td>\n",
       "      <td>0.941693</td>\n",
       "      <td>1.000000</td>\n",
       "      <td>0.047423</td>\n",
       "    </tr>\n",
       "    <tr>\n",
       "      <th>3</th>\n",
       "      <td>0.600000</td>\n",
       "      <td>0.821256</td>\n",
       "      <td>0.887189</td>\n",
       "      <td>0.323161</td>\n",
       "      <td>0.809603</td>\n",
       "      <td>0.902929</td>\n",
       "      <td>0.046392</td>\n",
       "    </tr>\n",
       "    <tr>\n",
       "      <th>4</th>\n",
       "      <td>0.680000</td>\n",
       "      <td>0.838969</td>\n",
       "      <td>0.999017</td>\n",
       "      <td>0.333762</td>\n",
       "      <td>0.774971</td>\n",
       "      <td>0.696672</td>\n",
       "      <td>0.090722</td>\n",
       "    </tr>\n",
       "  </tbody>\n",
       "</table>\n",
       "</div>"
      ],
      "text/plain": [
       "   Retainability      HOSR      RSRP      RSRQ      SINR  Throughput  Distance\n",
       "0       0.020000  0.370370  0.729582  0.128493  0.476661    0.479031  0.177320\n",
       "1       0.393333  0.677939  0.997924  0.440411  0.844738    0.768123  0.061856\n",
       "2       0.753333  0.706924  1.000000  0.507549  0.941693    1.000000  0.047423\n",
       "3       0.600000  0.821256  0.887189  0.323161  0.809603    0.902929  0.046392\n",
       "4       0.680000  0.838969  0.999017  0.333762  0.774971    0.696672  0.090722"
      ]
     },
     "execution_count": 11,
     "metadata": {},
     "output_type": "execute_result"
    }
   ],
   "source": [
    "# Take a look at the first range normalized events\n",
    "scaled1df.head(n=5)"
   ]
  },
  {
   "cell_type": "code",
   "execution_count": 12,
   "metadata": {},
   "outputs": [],
   "source": [
    "standardscaler = preprocessing.StandardScaler()\n",
    "standardscaler.fit(scaled1df)\n",
    "scaled2 = standardscaler.transform(scaled1df)\n",
    "scaled2df = pd.DataFrame(scaled2)\n",
    "scaled2df.columns = [\"Retainability\", \"HOSR\", \"RSRP\", \"RSRQ\", \"SINR\", \"Throughput\", \"Distance\"]"
   ]
  },
  {
   "cell_type": "code",
   "execution_count": 13,
   "metadata": {},
   "outputs": [
    {
     "data": {
      "text/html": [
       "<div>\n",
       "<style scoped>\n",
       "    .dataframe tbody tr th:only-of-type {\n",
       "        vertical-align: middle;\n",
       "    }\n",
       "\n",
       "    .dataframe tbody tr th {\n",
       "        vertical-align: top;\n",
       "    }\n",
       "\n",
       "    .dataframe thead th {\n",
       "        text-align: right;\n",
       "    }\n",
       "</style>\n",
       "<table border=\"1\" class=\"dataframe\">\n",
       "  <thead>\n",
       "    <tr style=\"text-align: right;\">\n",
       "      <th></th>\n",
       "      <th>Retainability</th>\n",
       "      <th>HOSR</th>\n",
       "      <th>RSRP</th>\n",
       "      <th>RSRQ</th>\n",
       "      <th>SINR</th>\n",
       "      <th>Throughput</th>\n",
       "      <th>Distance</th>\n",
       "    </tr>\n",
       "  </thead>\n",
       "  <tbody>\n",
       "    <tr>\n",
       "      <th>0</th>\n",
       "      <td>-5.369578</td>\n",
       "      <td>-4.270541</td>\n",
       "      <td>1.833438</td>\n",
       "      <td>-3.618251</td>\n",
       "      <td>-1.747126</td>\n",
       "      <td>1.240194</td>\n",
       "      <td>-1.565099</td>\n",
       "    </tr>\n",
       "    <tr>\n",
       "      <th>1</th>\n",
       "      <td>-3.098333</td>\n",
       "      <td>-1.918184</td>\n",
       "      <td>3.475686</td>\n",
       "      <td>-1.602502</td>\n",
       "      <td>0.545702</td>\n",
       "      <td>3.649734</td>\n",
       "      <td>-2.535459</td>\n",
       "    </tr>\n",
       "    <tr>\n",
       "      <th>2</th>\n",
       "      <td>-0.908203</td>\n",
       "      <td>-1.696496</td>\n",
       "      <td>3.488391</td>\n",
       "      <td>-1.168628</td>\n",
       "      <td>1.149653</td>\n",
       "      <td>5.582399</td>\n",
       "      <td>-2.656754</td>\n",
       "    </tr>\n",
       "    <tr>\n",
       "      <th>3</th>\n",
       "      <td>-1.841036</td>\n",
       "      <td>-0.822060</td>\n",
       "      <td>2.797991</td>\n",
       "      <td>-2.360224</td>\n",
       "      <td>0.326841</td>\n",
       "      <td>4.773325</td>\n",
       "      <td>-2.665418</td>\n",
       "    </tr>\n",
       "    <tr>\n",
       "      <th>4</th>\n",
       "      <td>-1.354341</td>\n",
       "      <td>-0.686584</td>\n",
       "      <td>3.482373</td>\n",
       "      <td>-2.291718</td>\n",
       "      <td>0.111106</td>\n",
       "      <td>3.054202</td>\n",
       "      <td>-2.292869</td>\n",
       "    </tr>\n",
       "  </tbody>\n",
       "</table>\n",
       "</div>"
      ],
      "text/plain": [
       "   Retainability      HOSR      RSRP      RSRQ      SINR  Throughput  Distance\n",
       "0      -5.369578 -4.270541  1.833438 -3.618251 -1.747126    1.240194 -1.565099\n",
       "1      -3.098333 -1.918184  3.475686 -1.602502  0.545702    3.649734 -2.535459\n",
       "2      -0.908203 -1.696496  3.488391 -1.168628  1.149653    5.582399 -2.656754\n",
       "3      -1.841036 -0.822060  2.797991 -2.360224  0.326841    4.773325 -2.665418\n",
       "4      -1.354341 -0.686584  3.482373 -2.291718  0.111106    3.054202 -2.292869"
      ]
     },
     "execution_count": 13,
     "metadata": {},
     "output_type": "execute_result"
    }
   ],
   "source": [
    "# Take a look at the first range and Z-score normalized events\n",
    "scaled2df.head(n=5)"
   ]
  },
  {
   "cell_type": "code",
   "execution_count": 14,
   "metadata": {},
   "outputs": [],
   "source": [
    "X = scaled2df.copy()"
   ]
  },
  {
   "cell_type": "markdown",
   "metadata": {},
   "source": [
    "## 2. Train Self-organizing Map"
   ]
  },
  {
   "cell_type": "markdown",
   "metadata": {},
   "source": [
    "A Self-organizing Map (SOM) is a type of unsupervised neural network capable of acquiring knowledge and learning from a set of unlabeled data. Therefore, in this paper,\n",
    "SOM is used as the centerpiece to classify the  cell’s state according to the behavior of its symptoms, subsequently identifying the fault cause. The great advantage of SOM  is its capacity for processing high-dimensional data and reducing it to a lower dimension (e.g., two), which enormously facilitates the interpretation and understanding of  the final diagnosis. Furthermore, this system does not require discrete data. This enables working directly with raw data, with no discretization methods that cause loss of information."
   ]
  },
  {
   "cell_type": "code",
   "execution_count": 15,
   "metadata": {},
   "outputs": [],
   "source": [
    "# Rectangular Grid\n",
    "mapsize = [10,10]"
   ]
  },
  {
   "cell_type": "code",
   "execution_count": 16,
   "metadata": {},
   "outputs": [],
   "source": [
    "Xarray=np.array(X)"
   ]
  },
  {
   "cell_type": "code",
   "execution_count": 17,
   "metadata": {},
   "outputs": [],
   "source": [
    "som = sompy.SOMFactory.build(Xarray, mapsize, mask=None, mapshape='planar', lattice='rect', normalization='var', initialization='pca', neighborhood='bubble', \n",
    "                             training='batch', name='sompy')"
   ]
  },
  {
   "cell_type": "code",
   "execution_count": null,
   "metadata": {},
   "outputs": [],
   "source": [
    "som.train(train_rough_len=1000,train_rough_radiusin=10,train_rough_radiusfin=2,train_finetune_len=1000,train_finetune_radiusin=1,train_finetune_radiusfin=0,n_job=1) "
   ]
  },
  {
   "cell_type": "markdown",
   "metadata": {},
   "source": [
    "## 3. Visualization of 2-dimensional Embedding"
   ]
  },
  {
   "cell_type": "markdown",
   "metadata": {},
   "source": [
    "Each heatmap represents the intensity of a single feature or data column as learned by the SOM grid.\n",
    "Note the heatmap is discretized and each ‘block’ in each subfigure is a unique neuron, the neurons have the same position across all subfigures, \n",
    "i.e. the block on the very top left of the latitude subfigure is the same neuron in the longitude subfigure and the monthly median temperature subgfigure and so on. \n",
    "In general similar heatmaps in different component planes represent correlation of features,  dissimilarity represents negligible correlation and inversion represents anti-correlation. "
   ]
  },
  {
   "cell_type": "code",
   "execution_count": 19,
   "metadata": {},
   "outputs": [
    {
     "data": {
      "image/png": "[encoded data removed]",
      "text/plain": [
       "<Figure size 1386x396 with 8 Axes>"
      ]
     },
     "metadata": {
      "needs_background": "light"
     },
     "output_type": "display_data"
    }
   ],
   "source": [
    "som.component_names = [\"Retainability\", \"HOSR\", \"RSRP\", \"RSRQ\", \"SINR\", \"Throughput\", \"Distance\"]\n",
    "v = sompy.mapview.View2DPacked(50, 50, ' ',text_size=8)  \n",
    "v.show(som, what='codebook', which_dim='all', cmap='jet', col_sz=7) "
   ]
  },
  {
   "cell_type": "markdown",
   "metadata": {},
   "source": [
    "The U-matrix is also a heatmap but can be interpreted like a topographic map (a map that shows the elevation contours across a region) across our SOM grid. \n",
    "The ‘hills’ (red) in the U-matrix represent large distances between neighbors and vice versa for valleys (blue)."
   ]
  },
  {
   "cell_type": "code",
   "execution_count": 20,
   "metadata": {},
   "outputs": [
    {
     "data": {
      "image/png": "[encoded data removed]",
      "text/plain": [
       "<Figure size 540x540 with 1 Axes>"
      ]
     },
     "metadata": {
      "needs_background": "light"
     },
     "output_type": "display_data"
    }
   ],
   "source": [
    "u = sompy.umatrix.UMatrixView(50, 50, 'umatrix', show_axis=True, text_size=8, show_text=True)\n",
    "\n",
    "#This is the Umat value\n",
    "UMAT  = u.build_u_matrix(som, distance=1, row_normalized=False)\n",
    "\n",
    "#Here you have Umatrix plus its render\n",
    "UMAT = u.show(som, distance2=1, row_normalized=False, show_data=True, contooor=True, blob=False)"
   ]
  },
  {
   "cell_type": "code",
   "execution_count": null,
   "metadata": {},
   "outputs": [],
   "source": []
  },
  {
   "cell_type": "markdown",
   "metadata": {},
   "source": [
    "## 4. Ward's Hierachical Clustering"
   ]
  },
  {
   "cell_type": "markdown",
   "metadata": {},
   "source": [
    "Then, SOM is clustered into different number of groups using Ward’s hierarchical clustering algorithm. To that end, the Euclidean distance between each pair of classes is calculated. Then, the Ward algorithm iteratively merges the closest two classes into a new class based on the minimum distance.\n"
   ]
  },
  {
   "cell_type": "code",
   "execution_count": 21,
   "metadata": {},
   "outputs": [],
   "source": [
    "def WardClus(Embedding, n_cluster):\n",
    "    ward = AgglomerativeClustering(n_clusters=n_cluster, linkage='ward',affinity='euclidean').fit(Embedding)\n",
    "    label = ward.labels_\n",
    "    \n",
    "    return label"
   ]
  },
  {
   "cell_type": "code",
   "execution_count": 22,
   "metadata": {},
   "outputs": [],
   "source": [
    "embedding = som.codebook.matrix # Take neurons as data that should be clustered"
   ]
  },
  {
   "cell_type": "code",
   "execution_count": 23,
   "metadata": {},
   "outputs": [
    {
     "data": {
      "image/png": "[encoded data removed]",
      "text/plain": [
       "<Figure size 1440x720 with 1 Axes>"
      ]
     },
     "metadata": {
      "needs_background": "light"
     },
     "output_type": "display_data"
    }
   ],
   "source": [
    "import scipy.cluster.hierarchy as shc\n",
    "\n",
    "plt.figure(figsize=(20, 10))  \n",
    "plt.title(\"Dendogram\")  \n",
    "dend = shc.dendrogram(shc.linkage(embedding, method='ward')) "
   ]
  },
  {
   "cell_type": "markdown",
   "metadata": {},
   "source": [
    "## 5. Davies-Bouldin Index "
   ]
  },
  {
   "cell_type": "markdown",
   "metadata": {},
   "source": [
    "Each classification is evaluated through the Davies-Bouldin Index (DB), which determines how well is each clustering, and the clustering with the minimum index (i.e., the best clustering according to the DB metric) is selected. The DB identifies clusters which are far from each other and compact."
   ]
  },
  {
   "cell_type": "code",
   "execution_count": 24,
   "metadata": {},
   "outputs": [],
   "source": [
    "from scipy.spatial.distance import euclidean, cdist\n",
    "\n",
    "def db_index(X, y):\n",
    "    \"\"\"\n",
    "    Davies-Bouldin index is an internal evaluation method for\n",
    "    clustering algorithms. Lower values indicate tighter clusters that are\n",
    "    better separated. Reference:\n",
    "    https://en.wikipedia.org/wiki/Davies%E2%80%93Bouldin_index\n",
    "\n",
    "    Arguments\n",
    "    ----------\n",
    "    X : 2D array (n_samples, embed_dim)\n",
    "        Vector for each example.\n",
    "    y : 1D array (n_samples,) or 2D binary array (n_samples, n_classes)\n",
    "        True labels for each example.\n",
    "\n",
    "    Returns\n",
    "    ----------\n",
    "    dbi : float\n",
    "        Calculated Davies-Bouldin index.\n",
    "    \"\"\"\n",
    "    # get unique labels\n",
    "    if y.ndim == 2:\n",
    "        y = np.argmax(axis=1)\n",
    "    uniqlbls = np.unique(y)\n",
    "    n = len(uniqlbls)\n",
    "    # pre-calculate centroid and sigma\n",
    "    centroid_arr = np.empty((n, X.shape[1]))\n",
    "    sigma_arr = np.empty(n)\n",
    "    for i,k in enumerate(uniqlbls):\n",
    "        Xk = X[np.where(y==k)[0],...]\n",
    "        Ak = np.mean(Xk, axis=0)\n",
    "        centroid_arr[i,...] = Ak\n",
    "        sigma_arr[i,...] = np.mean(cdist(Xk, Ak.reshape(1,-1)))\n",
    "    # loop over non-duplicate cluster pairs\n",
    "    dbi = 0\n",
    "    for i in range(n):\n",
    "        max_Rij = 0\n",
    "        for j in range(n):\n",
    "            if j != i:\n",
    "                Rij = np.divide(sigma_arr[i] + sigma_arr[j], \n",
    "                                euclidean(centroid_arr[i,...], centroid_arr[j,...]))\n",
    "                if Rij > max_Rij:\n",
    "                    max_Rij = Rij\n",
    "        dbi += max_Rij\n",
    "    return dbi/n"
   ]
  },
  {
   "cell_type": "code",
   "execution_count": 25,
   "metadata": {},
   "outputs": [],
   "source": [
    "indexls = []\n",
    "\n",
    "for i in range(2,10):\n",
    "    labelvec = WardClus(embedding,i)\n",
    "    DBindex = db_index(embedding,labelvec)\n",
    "    indexls.append(DBindex)"
   ]
  },
  {
   "cell_type": "code",
   "execution_count": 26,
   "metadata": {},
   "outputs": [
    {
     "data": {
      "image/png": "[encoded data removed]",
      "text/plain": [
       "<Figure size 432x288 with 1 Axes>"
      ]
     },
     "metadata": {
      "needs_background": "light"
     },
     "output_type": "display_data"
    },
    {
     "name": "stdout",
     "output_type": "stream",
     "text": [
      "Minimal DB-Index: 0.7133019409601346 for 6 Cluster.\n"
     ]
    }
   ],
   "source": [
    "plt.plot(range(2,10),indexls)\n",
    "plt.ylabel('Davies-Bouldin-Index')\n",
    "plt.show()\n",
    "print(\"Minimal DB-Index:\",min(indexls),\"for\",indexls.index(min(indexls))+2, \"Cluster.\")"
   ]
  },
  {
   "cell_type": "markdown",
   "metadata": {},
   "source": [
    "Here the DB is minimal for 6 Clusters, thus we take 6 as the optimal amount of clusters."
   ]
  },
  {
   "cell_type": "code",
   "execution_count": 40,
   "metadata": {},
   "outputs": [],
   "source": [
    "# Note that n_clusters is now set to 6!\n",
    "ward = AgglomerativeClustering(n_clusters=6, linkage='ward', affinity='euclidean').fit(embedding)\n",
    "label = ward.labels_"
   ]
  },
  {
   "cell_type": "markdown",
   "metadata": {},
   "source": [
    "# Cluster-Symptom-Relation based on Statistical Cluster Behaviour"
   ]
  },
  {
   "cell_type": "markdown",
   "metadata": {},
   "source": [
    "## 1. Ward's Clustering"
   ]
  },
  {
   "cell_type": "markdown",
   "metadata": {},
   "source": [
    "By now, Ward's Clustering grouped close neurons together. Since every data point can be mapped to its closest neuron (BMU) we can derive a clustering of our original KPI dataset."
   ]
  },
  {
   "cell_type": "code",
   "execution_count": 41,
   "metadata": {},
   "outputs": [],
   "source": [
    "bmumap = som.find_bmu(Xarray)"
   ]
  },
  {
   "cell_type": "code",
   "execution_count": 42,
   "metadata": {},
   "outputs": [],
   "source": [
    "bmucluster = pd.DataFrame({'neuron': range(0, 100),'cluster': label})"
   ]
  },
  {
   "cell_type": "code",
   "execution_count": 43,
   "metadata": {},
   "outputs": [],
   "source": [
    "datalabel=[]\n",
    "\n",
    "for x in bmumap[0]:\n",
    "    bmu = int(x) #get bmu neuron \n",
    "    row = bmucluster[bmucluster['neuron']==bmu].cluster.item()\n",
    "    datalabel.append(row)"
   ]
  },
  {
   "cell_type": "code",
   "execution_count": 44,
   "metadata": {},
   "outputs": [],
   "source": [
    "KPIcluster = KPIs.copy()"
   ]
  },
  {
   "cell_type": "code",
   "execution_count": 45,
   "metadata": {},
   "outputs": [],
   "source": [
    "KPIcluster['cluster'] = datalabel"
   ]
  },
  {
   "cell_type": "code",
   "execution_count": 46,
   "metadata": {},
   "outputs": [
    {
     "data": {
      "text/html": [
       "<div>\n",
       "<style scoped>\n",
       "    .dataframe tbody tr th:only-of-type {\n",
       "        vertical-align: middle;\n",
       "    }\n",
       "\n",
       "    .dataframe tbody tr th {\n",
       "        vertical-align: top;\n",
       "    }\n",
       "\n",
       "    .dataframe thead th {\n",
       "        text-align: right;\n",
       "    }\n",
       "</style>\n",
       "<table border=\"1\" class=\"dataframe\">\n",
       "  <thead>\n",
       "    <tr style=\"text-align: right;\">\n",
       "      <th></th>\n",
       "      <th>Retainability</th>\n",
       "      <th>HOSR</th>\n",
       "      <th>RSRP</th>\n",
       "      <th>RSRQ</th>\n",
       "      <th>SINR</th>\n",
       "      <th>Throughput</th>\n",
       "      <th>Distance</th>\n",
       "      <th>cluster</th>\n",
       "    </tr>\n",
       "  </thead>\n",
       "  <tbody>\n",
       "    <tr>\n",
       "      <th>0</th>\n",
       "      <td>0.853</td>\n",
       "      <td>0.609</td>\n",
       "      <td>-66.728</td>\n",
       "      <td>-20.042</td>\n",
       "      <td>10.836</td>\n",
       "      <td>148.692</td>\n",
       "      <td>0.713</td>\n",
       "      <td>4</td>\n",
       "    </tr>\n",
       "    <tr>\n",
       "      <th>1</th>\n",
       "      <td>0.909</td>\n",
       "      <td>0.800</td>\n",
       "      <td>-61.816</td>\n",
       "      <td>-19.071</td>\n",
       "      <td>15.236</td>\n",
       "      <td>205.652</td>\n",
       "      <td>0.601</td>\n",
       "      <td>1</td>\n",
       "    </tr>\n",
       "    <tr>\n",
       "      <th>2</th>\n",
       "      <td>0.963</td>\n",
       "      <td>0.818</td>\n",
       "      <td>-61.778</td>\n",
       "      <td>-18.862</td>\n",
       "      <td>16.395</td>\n",
       "      <td>251.339</td>\n",
       "      <td>0.587</td>\n",
       "      <td>1</td>\n",
       "    </tr>\n",
       "    <tr>\n",
       "      <th>3</th>\n",
       "      <td>0.940</td>\n",
       "      <td>0.889</td>\n",
       "      <td>-63.843</td>\n",
       "      <td>-19.436</td>\n",
       "      <td>14.816</td>\n",
       "      <td>232.213</td>\n",
       "      <td>0.586</td>\n",
       "      <td>1</td>\n",
       "    </tr>\n",
       "    <tr>\n",
       "      <th>4</th>\n",
       "      <td>0.952</td>\n",
       "      <td>0.900</td>\n",
       "      <td>-61.796</td>\n",
       "      <td>-19.403</td>\n",
       "      <td>14.402</td>\n",
       "      <td>191.574</td>\n",
       "      <td>0.629</td>\n",
       "      <td>1</td>\n",
       "    </tr>\n",
       "  </tbody>\n",
       "</table>\n",
       "</div>"
      ],
      "text/plain": [
       "   Retainability   HOSR    RSRP    RSRQ    SINR  Throughput  Distance  cluster\n",
       "0          0.853  0.609 -66.728 -20.042  10.836     148.692     0.713        4\n",
       "1          0.909  0.800 -61.816 -19.071  15.236     205.652     0.601        1\n",
       "2          0.963  0.818 -61.778 -18.862  16.395     251.339     0.587        1\n",
       "3          0.940  0.889 -63.843 -19.436  14.816     232.213     0.586        1\n",
       "4          0.952  0.900 -61.796 -19.403  14.402     191.574     0.629        1"
      ]
     },
     "execution_count": 46,
     "metadata": {},
     "output_type": "execute_result"
    }
   ],
   "source": [
    "# Here we have added the cluster assignment as the very right column 'cluster'\n",
    "KPIcluster.head(n=5)"
   ]
  },
  {
   "cell_type": "code",
   "execution_count": 47,
   "metadata": {},
   "outputs": [],
   "source": [
    "KPIcluster['FaultCause'] = y"
   ]
  },
  {
   "cell_type": "code",
   "execution_count": 48,
   "metadata": {},
   "outputs": [],
   "source": [
    "wardcluster = bmucluster['cluster'].values\n",
    "msz = som.codebook.mapsize"
   ]
  },
  {
   "cell_type": "code",
   "execution_count": 49,
   "metadata": {},
   "outputs": [
    {
     "data": {
      "text/html": [
       "\n",
       "        <iframe\n",
       "            width=\"100%\"\n",
       "            height=\"525px\"\n",
       "            src=\"https://plot.ly/~tandeu/223.embed\"\n",
       "            frameborder=\"0\"\n",
       "            allowfullscreen\n",
       "        ></iframe>\n",
       "        "
      ],
      "text/plain": [
       "<IPython.lib.display.IFrame at 0x7fdb244ad080>"
      ]
     },
     "execution_count": 49,
     "metadata": {},
     "output_type": "execute_result"
    }
   ],
   "source": [
    "fig = ff.create_annotated_heatmap(wardcluster.reshape(msz[0], msz[1])[::],\n",
    "                                 text=wardcluster.reshape(msz[0], msz[1])[::],\n",
    "                                 hoverinfo='text',colorscale='Jet')\n",
    "py.iplot(fig, filename='git_ClusterHeatmap')"
   ]
  },
  {
   "cell_type": "markdown",
   "metadata": {},
   "source": [
    "This plot shows the clustering of the SOM neurons."
   ]
  },
  {
   "cell_type": "markdown",
   "metadata": {},
   "source": [
    "## 2. Labeling by Experts"
   ]
  },
  {
   "cell_type": "markdown",
   "metadata": {},
   "source": [
    "Afterwards each cluster is studied to examine the statistical behavior of the cluster's KPI values. As a result, the cluster-symptom relation can be determined. This statistical information also helps verify whether the clustering is correct or not. That is, it allows experts to detect if a cluster is associated with more than one cause. Finally, taking into account the cluster-symptom relations, the experts should identify the cause associated with each cluster based on their knowledge and, as a consequence, provide a suitable label to each cluster. As previously stated, one of the clusters will correspond to the normal behavior of the cells, on the other hand, the remaining cases will have a descriptive label related with the possible fault cause"
   ]
  },
  {
   "cell_type": "code",
   "execution_count": 50,
   "metadata": {},
   "outputs": [],
   "source": [
    "# First, for each cluster we take a look at the corresponding boxplots (probability functions) over all KPI values to identify possible root causes.\n",
    "cluster0 = KPIcluster[KPIcluster['cluster']==0]\n",
    "cluster1 = KPIcluster[KPIcluster['cluster']==1]\n",
    "cluster2 = KPIcluster[KPIcluster['cluster']==2]\n",
    "cluster3 = KPIcluster[KPIcluster['cluster']==3]\n",
    "cluster4 = KPIcluster[KPIcluster['cluster']==4]\n",
    "cluster5 = KPIcluster[KPIcluster['cluster']==5]"
   ]
  },
  {
   "cell_type": "code",
   "execution_count": 51,
   "metadata": {
    "jupyter": {
     "source_hidden": true
    }
   },
   "outputs": [
    {
     "data": {
      "text/html": [
       "\n",
       "        <iframe\n",
       "            width=\"100%\"\n",
       "            height=\"525px\"\n",
       "            src=\"https://plot.ly/~tandeu/226.embed\"\n",
       "            frameborder=\"0\"\n",
       "            allowfullscreen\n",
       "        ></iframe>\n",
       "        "
      ],
      "text/plain": [
       "<IPython.lib.display.IFrame at 0x7fdb24455710>"
      ]
     },
     "execution_count": 51,
     "metadata": {},
     "output_type": "execute_result"
    }
   ],
   "source": [
    "y0 = cluster0['Retainability']\n",
    "y1 = cluster0['HOSR']\n",
    "y2 = cluster0['RSRP']\n",
    "y3 = cluster0['RSRQ']\n",
    "y4 = cluster0['SINR']\n",
    "y5 = cluster0['Throughput']\n",
    "y6 = cluster0['Distance']\n",
    "\n",
    "trace0 = go.Box(\n",
    "    y=y0,\n",
    "    name = 'Retainability'\n",
    ")\n",
    "trace1 = go.Box(\n",
    "    y=y1,\n",
    "    name = 'HOSR'\n",
    ")\n",
    "trace2 = go.Box(\n",
    "    y=y2,\n",
    "    name = 'RSRP'\n",
    ")\n",
    "trace3 = go.Box(\n",
    "    y=y3,\n",
    "    name = 'RSRQ'\n",
    ")\n",
    "trace4 = go.Box(\n",
    "    y=y4,\n",
    "    name= 'SINR'\n",
    ")\n",
    "trace5 = go.Box(\n",
    "    y=y5,\n",
    "    name = 'Throughput'\n",
    ")\n",
    "trace6 = go.Box(\n",
    "    y=y6,\n",
    "    name = 'Distance'\n",
    ")\n",
    "\n",
    "\n",
    "dataCluster0 = [trace0, trace1, trace2, trace3, trace4, trace5, trace6]\n",
    "\n",
    "layout = go.Layout(\n",
    "    title = \"Cluster 0\"\n",
    ")\n",
    "\n",
    "fig = go.Figure(data=dataCluster0,layout=layout)\n",
    "py.iplot(fig, filename = \"git_Cluster0\")"
   ]
  },
  {
   "cell_type": "code",
   "execution_count": 52,
   "metadata": {
    "jupyter": {
     "source_hidden": true
    }
   },
   "outputs": [
    {
     "data": {
      "text/html": [
       "\n",
       "        <iframe\n",
       "            width=\"100%\"\n",
       "            height=\"525px\"\n",
       "            src=\"https://plot.ly/~tandeu/228.embed\"\n",
       "            frameborder=\"0\"\n",
       "            allowfullscreen\n",
       "        ></iframe>\n",
       "        "
      ],
      "text/plain": [
       "<IPython.lib.display.IFrame at 0x7fdb179cc5c0>"
      ]
     },
     "execution_count": 52,
     "metadata": {},
     "output_type": "execute_result"
    }
   ],
   "source": [
    "y0 = cluster1['Retainability']\n",
    "y1 = cluster1['HOSR']\n",
    "y2 = cluster1['RSRP']\n",
    "y3 = cluster1['RSRQ']\n",
    "y4 = cluster1['SINR']\n",
    "y5 = cluster1['Throughput']\n",
    "y6 = cluster1['Distance']\n",
    "\n",
    "trace0 = go.Box(\n",
    "    y=y0,\n",
    "    name = 'Retainability'\n",
    ")\n",
    "trace1 = go.Box(\n",
    "    y=y1,\n",
    "    name = 'HOSR'\n",
    ")\n",
    "trace2 = go.Box(\n",
    "    y=y2,\n",
    "    name = 'RSRP'\n",
    ")\n",
    "trace3 = go.Box(\n",
    "    y=y3,\n",
    "    name = 'RSRQ'\n",
    ")\n",
    "trace4 = go.Box(\n",
    "    y=y4,\n",
    "    name= 'SINR'\n",
    ")\n",
    "trace5 = go.Box(\n",
    "    y=y5,\n",
    "    name = 'Throughput'\n",
    ")\n",
    "trace6 = go.Box(\n",
    "    y=y6,\n",
    "    name = 'Distance'\n",
    ")\n",
    "\n",
    "\n",
    "dataCluster1 = [trace0, trace1, trace2, trace3, trace4, trace5, trace6]\n",
    "\n",
    "layout = go.Layout(\n",
    "    title = \"Cluster 1\"\n",
    ")\n",
    "\n",
    "fig = go.Figure(data=dataCluster1,layout=layout)\n",
    "py.iplot(fig, filename = \"git_Cluster1\")"
   ]
  },
  {
   "cell_type": "code",
   "execution_count": 53,
   "metadata": {
    "jupyter": {
     "source_hidden": true
    }
   },
   "outputs": [
    {
     "data": {
      "text/html": [
       "\n",
       "        <iframe\n",
       "            width=\"100%\"\n",
       "            height=\"525px\"\n",
       "            src=\"https://plot.ly/~tandeu/230.embed\"\n",
       "            frameborder=\"0\"\n",
       "            allowfullscreen\n",
       "        ></iframe>\n",
       "        "
      ],
      "text/plain": [
       "<IPython.lib.display.IFrame at 0x7fdb179cc588>"
      ]
     },
     "execution_count": 53,
     "metadata": {},
     "output_type": "execute_result"
    }
   ],
   "source": [
    "y0 = cluster2['Retainability']\n",
    "y1 = cluster2['HOSR']\n",
    "y2 = cluster2['RSRP']\n",
    "y3 = cluster2['RSRQ']\n",
    "y4 = cluster2['SINR']\n",
    "y5 = cluster2['Throughput']\n",
    "y6 = cluster2['Distance']\n",
    "\n",
    "trace0 = go.Box(\n",
    "    y=y0,\n",
    "    name = 'Retainability'\n",
    ")\n",
    "trace1 = go.Box(\n",
    "    y=y1,\n",
    "    name = 'HOSR'\n",
    ")\n",
    "trace2 = go.Box(\n",
    "    y=y2,\n",
    "    name = 'RSRP'\n",
    ")\n",
    "trace3 = go.Box(\n",
    "    y=y3,\n",
    "    name = 'RSRQ'\n",
    ")\n",
    "trace4 = go.Box(\n",
    "    y=y4,\n",
    "    name= 'SINR'\n",
    ")\n",
    "trace5 = go.Box(\n",
    "    y=y5,\n",
    "    name = 'Throughput'\n",
    ")\n",
    "trace6 = go.Box(\n",
    "    y=y6,\n",
    "    name = 'Distance'\n",
    ")\n",
    "\n",
    "\n",
    "dataCluster2 = [trace0, trace1, trace2, trace3, trace4, trace5, trace6]\n",
    "\n",
    "layout = go.Layout(\n",
    "    title = \"Cluster 2\"\n",
    ")\n",
    "\n",
    "fig = go.Figure(data=dataCluster2,layout=layout)\n",
    "py.iplot(fig, filename = \"git_Cluster2\")"
   ]
  },
  {
   "cell_type": "code",
   "execution_count": 54,
   "metadata": {
    "jupyter": {
     "source_hidden": true
    }
   },
   "outputs": [
    {
     "data": {
      "text/html": [
       "\n",
       "        <iframe\n",
       "            width=\"100%\"\n",
       "            height=\"525px\"\n",
       "            src=\"https://plot.ly/~tandeu/232.embed\"\n",
       "            frameborder=\"0\"\n",
       "            allowfullscreen\n",
       "        ></iframe>\n",
       "        "
      ],
      "text/plain": [
       "<IPython.lib.display.IFrame at 0x7fdb17a4c588>"
      ]
     },
     "execution_count": 54,
     "metadata": {},
     "output_type": "execute_result"
    }
   ],
   "source": [
    "y0 = cluster3['Retainability']\n",
    "y1 = cluster3['HOSR']\n",
    "y2 = cluster3['RSRP']\n",
    "y3 = cluster3['RSRQ']\n",
    "y4 = cluster3['SINR']\n",
    "y5 = cluster3['Throughput']\n",
    "y6 = cluster3['Distance']\n",
    "\n",
    "trace0 = go.Box(\n",
    "    y=y0,\n",
    "    name = 'Retainability'\n",
    ")\n",
    "trace1 = go.Box(\n",
    "    y=y1,\n",
    "    name = 'HOSR'\n",
    ")\n",
    "trace2 = go.Box(\n",
    "    y=y2,\n",
    "    name = 'RSRP'\n",
    ")\n",
    "trace3 = go.Box(\n",
    "    y=y3,\n",
    "    name = 'RSRQ'\n",
    ")\n",
    "trace4 = go.Box(\n",
    "    y=y4,\n",
    "    name= 'SINR'\n",
    ")\n",
    "trace5 = go.Box(\n",
    "    y=y5,\n",
    "    name = 'Throughput'\n",
    ")\n",
    "trace6 = go.Box(\n",
    "    y=y6,\n",
    "    name = 'Distance'\n",
    ")\n",
    "\n",
    "\n",
    "dataCluster3 = [trace0, trace1, trace2, trace3, trace4, trace5, trace6]\n",
    "\n",
    "layout = go.Layout(\n",
    "    title = \"Cluster 3\"\n",
    ")\n",
    "\n",
    "fig = go.Figure(data=dataCluster3,layout=layout)\n",
    "py.iplot(fig, filename = \"git_Cluster3\")"
   ]
  },
  {
   "cell_type": "code",
   "execution_count": 55,
   "metadata": {
    "jupyter": {
     "source_hidden": true
    }
   },
   "outputs": [
    {
     "data": {
      "text/html": [
       "\n",
       "        <iframe\n",
       "            width=\"100%\"\n",
       "            height=\"525px\"\n",
       "            src=\"https://plot.ly/~tandeu/234.embed\"\n",
       "            frameborder=\"0\"\n",
       "            allowfullscreen\n",
       "        ></iframe>\n",
       "        "
      ],
      "text/plain": [
       "<IPython.lib.display.IFrame at 0x7fdb17cda470>"
      ]
     },
     "execution_count": 55,
     "metadata": {},
     "output_type": "execute_result"
    }
   ],
   "source": [
    "y0 = cluster4['Retainability']\n",
    "y1 = cluster4['HOSR']\n",
    "y2 = cluster4['RSRP']\n",
    "y3 = cluster4['RSRQ']\n",
    "y4 = cluster4['SINR']\n",
    "y5 = cluster4['Throughput']\n",
    "y6 = cluster4['Distance']\n",
    "\n",
    "trace0 = go.Box(\n",
    "    y=y0,\n",
    "    name = 'Retainability'\n",
    ")\n",
    "trace1 = go.Box(\n",
    "    y=y1,\n",
    "    name = 'HOSR'\n",
    ")\n",
    "trace2 = go.Box(\n",
    "    y=y2,\n",
    "    name = 'RSRP'\n",
    ")\n",
    "trace3 = go.Box(\n",
    "    y=y3,\n",
    "    name = 'RSRQ'\n",
    ")\n",
    "trace4 = go.Box(\n",
    "    y=y4,\n",
    "    name= 'SINR'\n",
    ")\n",
    "trace5 = go.Box(\n",
    "    y=y5,\n",
    "    name = 'Throughput'\n",
    ")\n",
    "trace6 = go.Box(\n",
    "    y=y6,\n",
    "    name = 'Distance'\n",
    ")\n",
    "\n",
    "\n",
    "dataCluster4 = [trace0, trace1, trace2, trace3, trace4, trace5, trace6]\n",
    "\n",
    "layout = go.Layout(\n",
    "    title = \"Cluster 4\"\n",
    ")\n",
    "\n",
    "fig = go.Figure(data=dataCluster4,layout=layout)\n",
    "py.iplot(fig, filename = \"git_Cluster4\")"
   ]
  },
  {
   "cell_type": "code",
   "execution_count": 56,
   "metadata": {
    "jupyter": {
     "source_hidden": true
    }
   },
   "outputs": [
    {
     "data": {
      "text/html": [
       "\n",
       "        <iframe\n",
       "            width=\"100%\"\n",
       "            height=\"525px\"\n",
       "            src=\"https://plot.ly/~tandeu/236.embed\"\n",
       "            frameborder=\"0\"\n",
       "            allowfullscreen\n",
       "        ></iframe>\n",
       "        "
      ],
      "text/plain": [
       "<IPython.lib.display.IFrame at 0x7fdb17ddb2b0>"
      ]
     },
     "execution_count": 56,
     "metadata": {},
     "output_type": "execute_result"
    }
   ],
   "source": [
    "y0 = cluster5['Retainability']\n",
    "y1 = cluster5['HOSR']\n",
    "y2 = cluster5['RSRP']\n",
    "y3 = cluster5['RSRQ']\n",
    "y4 = cluster5['SINR']\n",
    "y5 = cluster5['Throughput']\n",
    "y6 = cluster5['Distance']\n",
    "\n",
    "trace0 = go.Box(\n",
    "    y=y0,\n",
    "    name = 'Retainability'\n",
    ")\n",
    "trace1 = go.Box(\n",
    "    y=y1,\n",
    "    name = 'HOSR'\n",
    ")\n",
    "trace2 = go.Box(\n",
    "    y=y2,\n",
    "    name = 'RSRP'\n",
    ")\n",
    "trace3 = go.Box(\n",
    "    y=y3,\n",
    "    name = 'RSRQ'\n",
    ")\n",
    "trace4 = go.Box(\n",
    "    y=y4,\n",
    "    name= 'SINR'\n",
    ")\n",
    "trace5 = go.Box(\n",
    "    y=y5,\n",
    "    name = 'Throughput'\n",
    ")\n",
    "trace6 = go.Box(\n",
    "    y=y6,\n",
    "    name = 'Distance'\n",
    ")\n",
    "\n",
    "\n",
    "dataCluster5 = [trace0, trace1, trace2, trace3, trace4, trace5, trace6]\n",
    "\n",
    "layout = go.Layout(\n",
    "    title = \"Cluster 5\"\n",
    ")\n",
    "\n",
    "fig = go.Figure(data=dataCluster5,layout=layout)\n",
    "py.iplot(fig, filename = \"git_Cluster5\")"
   ]
  },
  {
   "cell_type": "code",
   "execution_count": 58,
   "metadata": {},
   "outputs": [],
   "source": [
    "# Then experts assign fraud labels to the clusters\n",
    "Faultlabels = ['Antenna Downtilt','Coverage Hole','Inter-system Inference','Too late Handover','Overshoot Coverage', 'Weak Coverage', 'Normal']"
   ]
  },
  {
   "cell_type": "code",
   "execution_count": 60,
   "metadata": {},
   "outputs": [
    {
     "name": "stdout",
     "output_type": "stream",
     "text": [
      "Cluster 0 has Root Cause: Normal\n",
      "Cluster 1 has Root Cause: Antenna Downtilt\n",
      "Cluster 2 has Root Cause: Inter-system Inference\n",
      "Cluster 3 has Root Cause: Overshoot Coverage\n",
      "Cluster 4 has Root Cause: Too late Handover\n",
      "Cluster 5 has Root Cause: Weak Coverage\n"
     ]
    }
   ],
   "source": [
    "rootcausels = []\n",
    "for i in range(6):\n",
    "    clusterdf = KPIcluster[KPIcluster['cluster']==i]\n",
    "    cause = clusterdf['FaultCause']\n",
    "    mode = int(cause.mode()[0])\n",
    "    rootcausemap = Faultlabels[mode-1]\n",
    "    print(\"Cluster\", i, \"has Root Cause:\",rootcausemap)\n",
    "    rootcausels.append(rootcausemap)"
   ]
  },
  {
   "cell_type": "code",
   "execution_count": 61,
   "metadata": {},
   "outputs": [],
   "source": [
    "wardcluster = bmucluster['cluster'].values"
   ]
  },
  {
   "cell_type": "code",
   "execution_count": 62,
   "metadata": {},
   "outputs": [],
   "source": [
    "rootcauseneurons = []\n",
    "\n",
    "for i in range(0,len(wardcluster)):\n",
    "    if wardcluster[i] == 0:\n",
    "        rootcauseneurons.append(rootcausels[0])\n",
    "    elif wardcluster[i] == 1:\n",
    "        rootcauseneurons.append(rootcausels[1])\n",
    "    elif wardcluster[i] == 2:\n",
    "        rootcauseneurons.append(rootcausels[2])\n",
    "    elif wardcluster[i] == 3:\n",
    "        rootcauseneurons.append(rootcausels[3])\n",
    "    elif wardcluster[i] == 4:\n",
    "        rootcauseneurons.append(rootcausels[4])\n",
    "    elif wardcluster[i] == 5:\n",
    "        rootcauseneurons.append(rootcausels[5])\n",
    "    elif wardcluster[i] == 6:\n",
    "        rootcauseneurons.append(rootcausels[6])"
   ]
  },
  {
   "cell_type": "code",
   "execution_count": 64,
   "metadata": {},
   "outputs": [
    {
     "data": {
      "text/html": [
       "\n",
       "        <iframe\n",
       "            width=\"100%\"\n",
       "            height=\"525px\"\n",
       "            src=\"https://plot.ly/~tandeu/242.embed\"\n",
       "            frameborder=\"0\"\n",
       "            allowfullscreen\n",
       "        ></iframe>\n",
       "        "
      ],
      "text/plain": [
       "<IPython.lib.display.IFrame at 0x7fdb243047b8>"
      ]
     },
     "execution_count": 64,
     "metadata": {},
     "output_type": "execute_result"
    }
   ],
   "source": [
    "fig = ff.create_annotated_heatmap(wardcluster.reshape(msz[0], msz[1])[::],\n",
    "                                 text=np.array(rootcauseneurons).reshape(msz[0], msz[1])[::],\n",
    "                                 hoverinfo='text',colorscale='Jet')\n",
    "py.iplot(fig, filename='git_RootCauseHeatmap')"
   ]
  },
  {
   "cell_type": "markdown",
   "metadata": {},
   "source": [
    "Now, each cluster is assigned to a root cause which can be noticed by hovering."
   ]
  },
  {
   "cell_type": "markdown",
   "metadata": {},
   "source": [
    "# Exploitation Stage"
   ]
  },
  {
   "cell_type": "markdown",
   "metadata": {},
   "source": [
    "Once the system has been designed, it can be used to automatically perform the diagnosis in the exploitation phase. This diagnosis process can be periodically performed to determine whether the identified fault is sporadic, continuous, or periodic and to track the evolution of the fault over time when either compensation or recovery tasks are carried out."
   ]
  },
  {
   "cell_type": "code",
   "execution_count": 66,
   "metadata": {},
   "outputs": [],
   "source": [
    "# Read in labeled valdidation data\n",
    "validationdata = pd.read_csv(\"db_fm_validation.txt\", sep=r\"\\s+\",skiprows=[0],header=None)"
   ]
  },
  {
   "cell_type": "code",
   "execution_count": 67,
   "metadata": {},
   "outputs": [],
   "source": [
    "validationdata.columns = [\"Retainability\", \"HOSR\", \"RSRP\", \"RSRQ\", \"SINR\", \"Throughput\", \"Distance\", \"FaultCause\"]"
   ]
  },
  {
   "cell_type": "code",
   "execution_count": 68,
   "metadata": {},
   "outputs": [
    {
     "data": {
      "text/html": [
       "<div>\n",
       "<style scoped>\n",
       "    .dataframe tbody tr th:only-of-type {\n",
       "        vertical-align: middle;\n",
       "    }\n",
       "\n",
       "    .dataframe tbody tr th {\n",
       "        vertical-align: top;\n",
       "    }\n",
       "\n",
       "    .dataframe thead th {\n",
       "        text-align: right;\n",
       "    }\n",
       "</style>\n",
       "<table border=\"1\" class=\"dataframe\">\n",
       "  <thead>\n",
       "    <tr style=\"text-align: right;\">\n",
       "      <th></th>\n",
       "      <th>Retainability</th>\n",
       "      <th>HOSR</th>\n",
       "      <th>RSRP</th>\n",
       "      <th>RSRQ</th>\n",
       "      <th>SINR</th>\n",
       "      <th>Throughput</th>\n",
       "      <th>Distance</th>\n",
       "      <th>FaultCause</th>\n",
       "    </tr>\n",
       "  </thead>\n",
       "  <tbody>\n",
       "    <tr>\n",
       "      <th>0</th>\n",
       "      <td>0.907</td>\n",
       "      <td>0.850</td>\n",
       "      <td>-64.372</td>\n",
       "      <td>-19.685</td>\n",
       "      <td>14.329</td>\n",
       "      <td>197.534</td>\n",
       "      <td>0.712</td>\n",
       "      <td>1.0</td>\n",
       "    </tr>\n",
       "    <tr>\n",
       "      <th>1</th>\n",
       "      <td>0.918</td>\n",
       "      <td>0.733</td>\n",
       "      <td>-62.968</td>\n",
       "      <td>-18.673</td>\n",
       "      <td>15.053</td>\n",
       "      <td>207.534</td>\n",
       "      <td>0.545</td>\n",
       "      <td>1.0</td>\n",
       "    </tr>\n",
       "    <tr>\n",
       "      <th>2</th>\n",
       "      <td>0.868</td>\n",
       "      <td>0.563</td>\n",
       "      <td>-68.681</td>\n",
       "      <td>-20.572</td>\n",
       "      <td>12.101</td>\n",
       "      <td>220.341</td>\n",
       "      <td>0.662</td>\n",
       "      <td>1.0</td>\n",
       "    </tr>\n",
       "    <tr>\n",
       "      <th>3</th>\n",
       "      <td>0.931</td>\n",
       "      <td>0.789</td>\n",
       "      <td>-61.692</td>\n",
       "      <td>-19.094</td>\n",
       "      <td>13.010</td>\n",
       "      <td>167.657</td>\n",
       "      <td>0.550</td>\n",
       "      <td>1.0</td>\n",
       "    </tr>\n",
       "    <tr>\n",
       "      <th>4</th>\n",
       "      <td>1.000</td>\n",
       "      <td>1.000</td>\n",
       "      <td>-63.932</td>\n",
       "      <td>-19.359</td>\n",
       "      <td>15.203</td>\n",
       "      <td>225.098</td>\n",
       "      <td>0.543</td>\n",
       "      <td>1.0</td>\n",
       "    </tr>\n",
       "  </tbody>\n",
       "</table>\n",
       "</div>"
      ],
      "text/plain": [
       "   Retainability   HOSR    RSRP    RSRQ    SINR  Throughput  Distance  \\\n",
       "0          0.907  0.850 -64.372 -19.685  14.329     197.534     0.712   \n",
       "1          0.918  0.733 -62.968 -18.673  15.053     207.534     0.545   \n",
       "2          0.868  0.563 -68.681 -20.572  12.101     220.341     0.662   \n",
       "3          0.931  0.789 -61.692 -19.094  13.010     167.657     0.550   \n",
       "4          1.000  1.000 -63.932 -19.359  15.203     225.098     0.543   \n",
       "\n",
       "   FaultCause  \n",
       "0         1.0  \n",
       "1         1.0  \n",
       "2         1.0  \n",
       "3         1.0  \n",
       "4         1.0  "
      ]
     },
     "execution_count": 68,
     "metadata": {},
     "output_type": "execute_result"
    }
   ],
   "source": [
    "# Here we see the first events labeled with a frault cause \n",
    "validationdata.head(n=5)"
   ]
  },
  {
   "cell_type": "code",
   "execution_count": 69,
   "metadata": {},
   "outputs": [],
   "source": [
    "test = validationdata.drop('FaultCause',axis=1)"
   ]
  },
  {
   "cell_type": "code",
   "execution_count": 70,
   "metadata": {},
   "outputs": [],
   "source": [
    "ytest = validationdata['FaultCause']"
   ]
  },
  {
   "cell_type": "code",
   "execution_count": 71,
   "metadata": {},
   "outputs": [],
   "source": [
    "normalizedtest = test.copy()"
   ]
  },
  {
   "cell_type": "code",
   "execution_count": 72,
   "metadata": {},
   "outputs": [],
   "source": [
    "# The validation data are normalized as well\n",
    "testrangescaler = preprocessing.MinMaxScaler()\n",
    "testrangescaler.fit(normalizedtest)\n",
    "scaledtest1 = testrangescaler.transform(normalizedtest)\n",
    "scaledtest1df = pd.DataFrame(scaledtest1)\n",
    "scaledtest1df.columns = [\"Retainability\", \"HOSR\", \"RSRP\", \"RSRQ\", \"SINR\", \"Throughput\", \"Distance\"]"
   ]
  },
  {
   "cell_type": "code",
   "execution_count": 73,
   "metadata": {},
   "outputs": [],
   "source": [
    "teststandscaler = preprocessing.StandardScaler()\n",
    "teststandscaler.fit(scaledtest1df)\n",
    "scaledstandtest1 = teststandscaler.transform(scaledtest1df)\n",
    "scaledtest2df = pd.DataFrame(scaledstandtest1)\n",
    "scaledtest2df.columns = [\"Retainability\", \"HOSR\", \"RSRP\", \"RSRQ\", \"SINR\", \"Throughput\", \"Distance\"]"
   ]
  },
  {
   "cell_type": "code",
   "execution_count": 74,
   "metadata": {},
   "outputs": [
    {
     "data": {
      "text/html": [
       "<div>\n",
       "<style scoped>\n",
       "    .dataframe tbody tr th:only-of-type {\n",
       "        vertical-align: middle;\n",
       "    }\n",
       "\n",
       "    .dataframe tbody tr th {\n",
       "        vertical-align: top;\n",
       "    }\n",
       "\n",
       "    .dataframe thead th {\n",
       "        text-align: right;\n",
       "    }\n",
       "</style>\n",
       "<table border=\"1\" class=\"dataframe\">\n",
       "  <thead>\n",
       "    <tr style=\"text-align: right;\">\n",
       "      <th></th>\n",
       "      <th>Retainability</th>\n",
       "      <th>HOSR</th>\n",
       "      <th>RSRP</th>\n",
       "      <th>RSRQ</th>\n",
       "      <th>SINR</th>\n",
       "      <th>Throughput</th>\n",
       "      <th>Distance</th>\n",
       "    </tr>\n",
       "  </thead>\n",
       "  <tbody>\n",
       "    <tr>\n",
       "      <th>0</th>\n",
       "      <td>-3.213872</td>\n",
       "      <td>-1.073487</td>\n",
       "      <td>2.677251</td>\n",
       "      <td>-2.719128</td>\n",
       "      <td>0.116863</td>\n",
       "      <td>3.772851</td>\n",
       "      <td>-1.564535</td>\n",
       "    </tr>\n",
       "    <tr>\n",
       "      <th>1</th>\n",
       "      <td>-2.749950</td>\n",
       "      <td>-2.373843</td>\n",
       "      <td>3.158034</td>\n",
       "      <td>-0.693985</td>\n",
       "      <td>0.498085</td>\n",
       "      <td>4.226181</td>\n",
       "      <td>-3.013237</td>\n",
       "    </tr>\n",
       "    <tr>\n",
       "      <th>2</th>\n",
       "      <td>-4.858685</td>\n",
       "      <td>-4.263248</td>\n",
       "      <td>1.201685</td>\n",
       "      <td>-4.494130</td>\n",
       "      <td>-1.056290</td>\n",
       "      <td>4.806760</td>\n",
       "      <td>-1.998278</td>\n",
       "    </tr>\n",
       "    <tr>\n",
       "      <th>3</th>\n",
       "      <td>-2.201679</td>\n",
       "      <td>-1.751450</td>\n",
       "      <td>3.594985</td>\n",
       "      <td>-1.536461</td>\n",
       "      <td>-0.577656</td>\n",
       "      <td>2.418439</td>\n",
       "      <td>-2.969863</td>\n",
       "    </tr>\n",
       "    <tr>\n",
       "      <th>4</th>\n",
       "      <td>0.708375</td>\n",
       "      <td>0.593635</td>\n",
       "      <td>2.827924</td>\n",
       "      <td>-2.066760</td>\n",
       "      <td>0.577068</td>\n",
       "      <td>5.022409</td>\n",
       "      <td>-3.030587</td>\n",
       "    </tr>\n",
       "  </tbody>\n",
       "</table>\n",
       "</div>"
      ],
      "text/plain": [
       "   Retainability      HOSR      RSRP      RSRQ      SINR  Throughput  Distance\n",
       "0      -3.213872 -1.073487  2.677251 -2.719128  0.116863    3.772851 -1.564535\n",
       "1      -2.749950 -2.373843  3.158034 -0.693985  0.498085    4.226181 -3.013237\n",
       "2      -4.858685 -4.263248  1.201685 -4.494130 -1.056290    4.806760 -1.998278\n",
       "3      -2.201679 -1.751450  3.594985 -1.536461 -0.577656    2.418439 -2.969863\n",
       "4       0.708375  0.593635  2.827924 -2.066760  0.577068    5.022409 -3.030587"
      ]
     },
     "execution_count": 74,
     "metadata": {},
     "output_type": "execute_result"
    }
   ],
   "source": [
    "scaledtest2df.head(n=5)"
   ]
  },
  {
   "cell_type": "code",
   "execution_count": 75,
   "metadata": {},
   "outputs": [],
   "source": [
    "normalizedtest = scaledtest2df.copy()"
   ]
  },
  {
   "cell_type": "code",
   "execution_count": 80,
   "metadata": {},
   "outputs": [
    {
     "name": "stderr",
     "output_type": "stream",
     "text": [
      "4009it [00:06, 612.29it/s]\n"
     ]
    }
   ],
   "source": [
    "# Based on the computed SOM clustering we assign each event from the validation data set to the best fitting cluster\n",
    "from scipy.spatial import distance\n",
    "testlabels = []\n",
    "for state in tqdm(normalizedtest.itertuples()):\n",
    "    newevent = state[1:8]\n",
    "    distls = []\n",
    "    for neuron in embedding:\n",
    "        dst = distance.euclidean(newevent, neuron)\n",
    "        distls.append(dst)\n",
    "    BMUdist = min(distls)\n",
    "    index = distls.index(min(distls))\n",
    "    BMU = embedding[index]\n",
    "    clusterlabel = bmucluster.iloc[index,1]\n",
    "    testlabels.append(clusterlabel)"
   ]
  },
  {
   "cell_type": "code",
   "execution_count": 81,
   "metadata": {},
   "outputs": [],
   "source": [
    "normalizedtest['FaultCause'] = ytest"
   ]
  },
  {
   "cell_type": "code",
   "execution_count": 82,
   "metadata": {},
   "outputs": [],
   "source": [
    "normalizedtest['Class'] = testlabels"
   ]
  },
  {
   "cell_type": "code",
   "execution_count": 83,
   "metadata": {},
   "outputs": [
    {
     "data": {
      "text/html": [
       "<div>\n",
       "<style scoped>\n",
       "    .dataframe tbody tr th:only-of-type {\n",
       "        vertical-align: middle;\n",
       "    }\n",
       "\n",
       "    .dataframe tbody tr th {\n",
       "        vertical-align: top;\n",
       "    }\n",
       "\n",
       "    .dataframe thead th {\n",
       "        text-align: right;\n",
       "    }\n",
       "</style>\n",
       "<table border=\"1\" class=\"dataframe\">\n",
       "  <thead>\n",
       "    <tr style=\"text-align: right;\">\n",
       "      <th></th>\n",
       "      <th>Retainability</th>\n",
       "      <th>HOSR</th>\n",
       "      <th>RSRP</th>\n",
       "      <th>RSRQ</th>\n",
       "      <th>SINR</th>\n",
       "      <th>Throughput</th>\n",
       "      <th>Distance</th>\n",
       "      <th>FaultCause</th>\n",
       "      <th>Class</th>\n",
       "    </tr>\n",
       "  </thead>\n",
       "  <tbody>\n",
       "    <tr>\n",
       "      <th>0</th>\n",
       "      <td>-3.213872</td>\n",
       "      <td>-1.073487</td>\n",
       "      <td>2.677251</td>\n",
       "      <td>-2.719128</td>\n",
       "      <td>0.116863</td>\n",
       "      <td>3.772851</td>\n",
       "      <td>-1.564535</td>\n",
       "      <td>1.0</td>\n",
       "      <td>1</td>\n",
       "    </tr>\n",
       "    <tr>\n",
       "      <th>1</th>\n",
       "      <td>-2.749950</td>\n",
       "      <td>-2.373843</td>\n",
       "      <td>3.158034</td>\n",
       "      <td>-0.693985</td>\n",
       "      <td>0.498085</td>\n",
       "      <td>4.226181</td>\n",
       "      <td>-3.013237</td>\n",
       "      <td>1.0</td>\n",
       "      <td>1</td>\n",
       "    </tr>\n",
       "    <tr>\n",
       "      <th>2</th>\n",
       "      <td>-4.858685</td>\n",
       "      <td>-4.263248</td>\n",
       "      <td>1.201685</td>\n",
       "      <td>-4.494130</td>\n",
       "      <td>-1.056290</td>\n",
       "      <td>4.806760</td>\n",
       "      <td>-1.998278</td>\n",
       "      <td>1.0</td>\n",
       "      <td>1</td>\n",
       "    </tr>\n",
       "    <tr>\n",
       "      <th>3</th>\n",
       "      <td>-2.201679</td>\n",
       "      <td>-1.751450</td>\n",
       "      <td>3.594985</td>\n",
       "      <td>-1.536461</td>\n",
       "      <td>-0.577656</td>\n",
       "      <td>2.418439</td>\n",
       "      <td>-2.969863</td>\n",
       "      <td>1.0</td>\n",
       "      <td>1</td>\n",
       "    </tr>\n",
       "    <tr>\n",
       "      <th>4</th>\n",
       "      <td>0.708375</td>\n",
       "      <td>0.593635</td>\n",
       "      <td>2.827924</td>\n",
       "      <td>-2.066760</td>\n",
       "      <td>0.577068</td>\n",
       "      <td>5.022409</td>\n",
       "      <td>-3.030587</td>\n",
       "      <td>1.0</td>\n",
       "      <td>1</td>\n",
       "    </tr>\n",
       "  </tbody>\n",
       "</table>\n",
       "</div>"
      ],
      "text/plain": [
       "   Retainability      HOSR      RSRP      RSRQ      SINR  Throughput  \\\n",
       "0      -3.213872 -1.073487  2.677251 -2.719128  0.116863    3.772851   \n",
       "1      -2.749950 -2.373843  3.158034 -0.693985  0.498085    4.226181   \n",
       "2      -4.858685 -4.263248  1.201685 -4.494130 -1.056290    4.806760   \n",
       "3      -2.201679 -1.751450  3.594985 -1.536461 -0.577656    2.418439   \n",
       "4       0.708375  0.593635  2.827924 -2.066760  0.577068    5.022409   \n",
       "\n",
       "   Distance  FaultCause  Class  \n",
       "0 -1.564535         1.0      1  \n",
       "1 -3.013237         1.0      1  \n",
       "2 -1.998278         1.0      1  \n",
       "3 -2.969863         1.0      1  \n",
       "4 -3.030587         1.0      1  "
      ]
     },
     "execution_count": 83,
     "metadata": {},
     "output_type": "execute_result"
    }
   ],
   "source": [
    "normalizedtest.head(n=5)"
   ]
  },
  {
   "cell_type": "markdown",
   "metadata": {},
   "source": [
    "Based on the computed SOM clustering we obtain a cluster assignment for all new data from the valdidation dataset."
   ]
  },
  {
   "cell_type": "markdown",
   "metadata": {},
   "source": [
    "## Evaluation"
   ]
  },
  {
   "cell_type": "markdown",
   "metadata": {},
   "source": [
    "In the evaluation we check if the cluster assignment fits the given labels."
   ]
  },
  {
   "cell_type": "code",
   "execution_count": 84,
   "metadata": {},
   "outputs": [],
   "source": [
    "FaultCauseCatls = []\n",
    "for event in normalizedtest['FaultCause']:\n",
    "    if int(event) == 1:\n",
    "        FaultCauseCatls.append(Faultlabels[0])\n",
    "    if int(event) == 2:\n",
    "        FaultCauseCatls.append(Faultlabels[1])\n",
    "    if int(event) == 3:\n",
    "        FaultCauseCatls.append(Faultlabels[2])\n",
    "    if int(event) == 4:\n",
    "        FaultCauseCatls.append(Faultlabels[3])\n",
    "    if int(event) == 5:\n",
    "        FaultCauseCatls.append(Faultlabels[4])\n",
    "    if int(event) == 6:\n",
    "        FaultCauseCatls.append(Faultlabels[5])\n",
    "    if int(event) == 7:\n",
    "        FaultCauseCatls.append(Faultlabels[6])\n",
    "normalizedtest['FaultCauseCat'] = FaultCauseCatls"
   ]
  },
  {
   "cell_type": "code",
   "execution_count": 85,
   "metadata": {},
   "outputs": [],
   "source": [
    "ClassCatls = []\n",
    "for event in normalizedtest['Class']:\n",
    "    if int(event) == 0:\n",
    "        ClassCatls.append(rootcausels[0])\n",
    "    if int(event) == 1:\n",
    "        ClassCatls.append(rootcausels[1])\n",
    "    if int(event) == 2:\n",
    "        ClassCatls.append(rootcausels[2])\n",
    "    if int(event) == 3:\n",
    "        ClassCatls.append(rootcausels[3])\n",
    "    if int(event) == 4:\n",
    "        ClassCatls.append(rootcausels[4])\n",
    "    if int(event) == 5:\n",
    "        ClassCatls.append(rootcausels[5])\n",
    "    if int(event) == 6:\n",
    "        ClassCatls.append(rootcausels[6])\n",
    "normalizedtest['ClassCat'] = ClassCatls"
   ]
  },
  {
   "cell_type": "code",
   "execution_count": 86,
   "metadata": {},
   "outputs": [
    {
     "data": {
      "text/html": [
       "<div>\n",
       "<style scoped>\n",
       "    .dataframe tbody tr th:only-of-type {\n",
       "        vertical-align: middle;\n",
       "    }\n",
       "\n",
       "    .dataframe tbody tr th {\n",
       "        vertical-align: top;\n",
       "    }\n",
       "\n",
       "    .dataframe thead th {\n",
       "        text-align: right;\n",
       "    }\n",
       "</style>\n",
       "<table border=\"1\" class=\"dataframe\">\n",
       "  <thead>\n",
       "    <tr style=\"text-align: right;\">\n",
       "      <th></th>\n",
       "      <th>Retainability</th>\n",
       "      <th>HOSR</th>\n",
       "      <th>RSRP</th>\n",
       "      <th>RSRQ</th>\n",
       "      <th>SINR</th>\n",
       "      <th>Throughput</th>\n",
       "      <th>Distance</th>\n",
       "      <th>FaultCause</th>\n",
       "      <th>Class</th>\n",
       "      <th>FaultCauseCat</th>\n",
       "      <th>ClassCat</th>\n",
       "    </tr>\n",
       "  </thead>\n",
       "  <tbody>\n",
       "    <tr>\n",
       "      <th>0</th>\n",
       "      <td>-3.213872</td>\n",
       "      <td>-1.073487</td>\n",
       "      <td>2.677251</td>\n",
       "      <td>-2.719128</td>\n",
       "      <td>0.116863</td>\n",
       "      <td>3.772851</td>\n",
       "      <td>-1.564535</td>\n",
       "      <td>1.0</td>\n",
       "      <td>1</td>\n",
       "      <td>Antenna Downtilt</td>\n",
       "      <td>Antenna Downtilt</td>\n",
       "    </tr>\n",
       "    <tr>\n",
       "      <th>1</th>\n",
       "      <td>-2.749950</td>\n",
       "      <td>-2.373843</td>\n",
       "      <td>3.158034</td>\n",
       "      <td>-0.693985</td>\n",
       "      <td>0.498085</td>\n",
       "      <td>4.226181</td>\n",
       "      <td>-3.013237</td>\n",
       "      <td>1.0</td>\n",
       "      <td>1</td>\n",
       "      <td>Antenna Downtilt</td>\n",
       "      <td>Antenna Downtilt</td>\n",
       "    </tr>\n",
       "    <tr>\n",
       "      <th>2</th>\n",
       "      <td>-4.858685</td>\n",
       "      <td>-4.263248</td>\n",
       "      <td>1.201685</td>\n",
       "      <td>-4.494130</td>\n",
       "      <td>-1.056290</td>\n",
       "      <td>4.806760</td>\n",
       "      <td>-1.998278</td>\n",
       "      <td>1.0</td>\n",
       "      <td>1</td>\n",
       "      <td>Antenna Downtilt</td>\n",
       "      <td>Antenna Downtilt</td>\n",
       "    </tr>\n",
       "    <tr>\n",
       "      <th>3</th>\n",
       "      <td>-2.201679</td>\n",
       "      <td>-1.751450</td>\n",
       "      <td>3.594985</td>\n",
       "      <td>-1.536461</td>\n",
       "      <td>-0.577656</td>\n",
       "      <td>2.418439</td>\n",
       "      <td>-2.969863</td>\n",
       "      <td>1.0</td>\n",
       "      <td>1</td>\n",
       "      <td>Antenna Downtilt</td>\n",
       "      <td>Antenna Downtilt</td>\n",
       "    </tr>\n",
       "    <tr>\n",
       "      <th>4</th>\n",
       "      <td>0.708375</td>\n",
       "      <td>0.593635</td>\n",
       "      <td>2.827924</td>\n",
       "      <td>-2.066760</td>\n",
       "      <td>0.577068</td>\n",
       "      <td>5.022409</td>\n",
       "      <td>-3.030587</td>\n",
       "      <td>1.0</td>\n",
       "      <td>1</td>\n",
       "      <td>Antenna Downtilt</td>\n",
       "      <td>Antenna Downtilt</td>\n",
       "    </tr>\n",
       "  </tbody>\n",
       "</table>\n",
       "</div>"
      ],
      "text/plain": [
       "   Retainability      HOSR      RSRP      RSRQ      SINR  Throughput  \\\n",
       "0      -3.213872 -1.073487  2.677251 -2.719128  0.116863    3.772851   \n",
       "1      -2.749950 -2.373843  3.158034 -0.693985  0.498085    4.226181   \n",
       "2      -4.858685 -4.263248  1.201685 -4.494130 -1.056290    4.806760   \n",
       "3      -2.201679 -1.751450  3.594985 -1.536461 -0.577656    2.418439   \n",
       "4       0.708375  0.593635  2.827924 -2.066760  0.577068    5.022409   \n",
       "\n",
       "   Distance  FaultCause  Class     FaultCauseCat          ClassCat  \n",
       "0 -1.564535         1.0      1  Antenna Downtilt  Antenna Downtilt  \n",
       "1 -3.013237         1.0      1  Antenna Downtilt  Antenna Downtilt  \n",
       "2 -1.998278         1.0      1  Antenna Downtilt  Antenna Downtilt  \n",
       "3 -2.969863         1.0      1  Antenna Downtilt  Antenna Downtilt  \n",
       "4 -3.030587         1.0      1  Antenna Downtilt  Antenna Downtilt  "
      ]
     },
     "execution_count": 86,
     "metadata": {},
     "output_type": "execute_result"
    }
   ],
   "source": [
    "# Here we see the validation dataset with the assigned clustering class 'Class', the corresponding root cause based on the semi-automatic Design Step (CkassCat),\n",
    "# and the actual given root cause (FaultCauseCat)\n",
    "normalizedtest.head(n=5)"
   ]
  },
  {
   "cell_type": "code",
   "execution_count": 87,
   "metadata": {},
   "outputs": [],
   "source": [
    "normals = normalizedtest['FaultCauseCat'] == \"Normal\" # States that are normal"
   ]
  },
  {
   "cell_type": "code",
   "execution_count": 88,
   "metadata": {},
   "outputs": [],
   "source": [
    "normalclassed = normalizedtest['ClassCat'] == \"Normal\" # States that are classified as normal"
   ]
  },
  {
   "cell_type": "code",
   "execution_count": 89,
   "metadata": {},
   "outputs": [],
   "source": [
    "fprls = []\n",
    "for i in range(len(normals)):\n",
    "    if normalizedtest['FaultCauseCat'][i] == 'Normal' and normalizedtest['ClassCat'][i] != 'Normal':\n",
    "        fprls.append(1)\n",
    "    else:\n",
    "        fprls.append(0)"
   ]
  },
  {
   "cell_type": "code",
   "execution_count": 90,
   "metadata": {},
   "outputs": [],
   "source": [
    "totalnormal = normalizedtest['FaultCauseCat'].tolist().count('Normal')"
   ]
  },
  {
   "cell_type": "code",
   "execution_count": 91,
   "metadata": {},
   "outputs": [],
   "source": [
    "FPrate = sum(fprls)/totalnormal # Proportion of normal cases diagnosed as fault causes to the total number of normal cases"
   ]
  },
  {
   "cell_type": "code",
   "execution_count": 92,
   "metadata": {},
   "outputs": [],
   "source": [
    "fnrls = []\n",
    "for i in range(len(normals)):\n",
    "    if normalizedtest['FaultCauseCat'][i] != 'Normal' and normalizedtest['ClassCat'][i] == 'Normal':\n",
    "        fnrls.append(1)\n",
    "    else:\n",
    "        fnrls.append(0)"
   ]
  },
  {
   "cell_type": "code",
   "execution_count": 93,
   "metadata": {},
   "outputs": [],
   "source": [
    "totalproblem = len(normalizedtest['FaultCauseCat'].tolist())-normalizedtest['FaultCauseCat'].tolist().count('Normal')"
   ]
  },
  {
   "cell_type": "code",
   "execution_count": 94,
   "metadata": {},
   "outputs": [],
   "source": [
    "FNrate = sum(fnrls)/totalproblem # Proportion of problematic cases diagnosed as normal to the total number of problematic cases. \n",
    "# Incapacity of the system to detect problems in a cell, when that cell actually has a problem"
   ]
  },
  {
   "cell_type": "code",
   "execution_count": 95,
   "metadata": {},
   "outputs": [],
   "source": [
    "diagnosiserrorls = []\n",
    "for i in range(len(normals)):\n",
    "    if normalizedtest['FaultCauseCat'][i] != 'Normal':\n",
    "        if normalizedtest['FaultCauseCat'][i] == normalizedtest['ClassCat'][i]:\n",
    "            diagnosiserrorls.append(0)\n",
    "        else:\n",
    "            diagnosiserrorls.append(1)"
   ]
  },
  {
   "cell_type": "code",
   "execution_count": 96,
   "metadata": {},
   "outputs": [],
   "source": [
    "DiagnosisErrorRate = sum(diagnosiserrorls)/totalproblem"
   ]
  },
  {
   "cell_type": "code",
   "execution_count": 97,
   "metadata": {},
   "outputs": [],
   "source": [
    "results = [FPrate,FNrate,DiagnosisErrorRate]"
   ]
  },
  {
   "cell_type": "code",
   "execution_count": 98,
   "metadata": {},
   "outputs": [
    {
     "data": {
      "text/html": [
       "\n",
       "        <iframe\n",
       "            width=\"100%\"\n",
       "            height=\"525px\"\n",
       "            src=\"https://plot.ly/~tandeu/221.embed\"\n",
       "            frameborder=\"0\"\n",
       "            allowfullscreen\n",
       "        ></iframe>\n",
       "        "
      ],
      "text/plain": [
       "<IPython.lib.display.IFrame at 0x7fdb58064fd0>"
      ]
     },
     "execution_count": 98,
     "metadata": {},
     "output_type": "execute_result"
    }
   ],
   "source": [
    "data = [go.Bar(\n",
    "            x=['False Positive Rate', 'False Negative Rate', 'Diagnosis Error Rate'],\n",
    "            y=results\n",
    "    )]\n",
    "\n",
    "py.iplot(data, filename='git_evaluationbar')"
   ]
  },
  {
   "cell_type": "markdown",
   "metadata": {},
   "source": [
    "# Conclusion"
   ]
  },
  {
   "cell_type": "markdown",
   "metadata": {},
   "source": [
    "An automatic diagnosis system as part of a self-healing network has been demonstrated. This system is built through unsupervised techniques with the aim of obtaining a system that represents the normal and faulty behaviors of the real network. The use of unsupervised techniques guarantees that the system can be built without historical reports of solved cases while simultaneously enabling the system to identify new faults that are not previously known. Even so, the clusters derived from the proposed system are labeled by an expert based on their statistical behavior, although the effort required from experts is negligible compared with that required for supervised methods. By  performing supervised labeling, experts can detect errors in the clustering, identify the behavior of each cluster, assign the best suited fault cause to each cluster based on their knowledge, and verify whether the system is right or not. As a result, this stage is not only a labeling phase but also a validation phase. To assess the proposed approach, the diagnosis system has been evaluated on simulated LTE data. The obtained results demonstrate the value of the integrated approach. It is important to point out  that  the  proposed  diagnosis  system  is  highly  accurate, taking  into  account that it  has  been  built  using  unsupervised techniques. Finally, it can be concluded that this system could be  part of a self-healing network where specific corrective actions are taken after the automatic diagnosis stage."
   ]
  },
  {
   "cell_type": "code",
   "execution_count": null,
   "metadata": {},
   "outputs": [],
   "source": []
  }
 ],
 "metadata": {
  "kernelspec": {
   "display_name": "Python 3",
   "language": "python",
   "name": "python3"
  },
  "language_info": {
   "codemirror_mode": {
    "name": "ipython",
    "version": 3
   },
   "file_extension": ".py",
   "mimetype": "text/x-python",
   "name": "python",
   "nbconvert_exporter": "python",
   "pygments_lexer": "ipython3",
   "version": "3.7.3"
  }
 },
 "nbformat": 4,
 "nbformat_minor": 4
}
